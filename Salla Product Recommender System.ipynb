{
 "cells": [
  {
   "cell_type": "markdown",
   "id": "24efa75e-2607-4355-a9e7-69415107279f",
   "metadata": {},
   "source": [
    "# Product Recommender System"
   ]
  },
  {
   "cell_type": "markdown",
   "id": "cc89db63-3f72-4c18-bbf9-179d408612a7",
   "metadata": {},
   "source": [
    "- This Jupyter notebook demonstrates the development of a product recommendation system using Python's data science libraries. It leverages pandas for data manipulation, scikit-learn for machine learning tasks, and scipy for numerical computations. The core objective is to provide personalized product recommendations based on textual features and similarity measures.\n",
    "\n",
    "### Data Preprocessing and Feature Extraction\n",
    "\n",
    "- The notebook begins by importing necessary libraries, including pandas for handling datasets, and text processing utilities like regular expressions and normalization functions from the camel_tools library. The data undergoes preprocessing steps such as normalization and vectorization. Specifically, the TfidfVectorizer from scikit-learn transforms textual data into numerical vectors, capturing the importance of terms within the product descriptions. To reduce dimensionality and highlight latent semantic structures, Truncated Singular Value Decomposition (SVD) is applied, resulting in a more efficient representation of the data.\n",
    "\n",
    "### Similarity Computation and Recommendation Generation\n",
    "\n",
    "- With the processed feature vectors, the notebook calculates pairwise cosine similarity scores using functions from the scipy.sparse module. Cosine similarity measures the cosine of the angle between two vectors, effectively quantifying their similarity. Based on these similarity scores, the system identifies and ranks products that are most similar to a given product. The final output is a list of recommended products tailored to the user's input, facilitating an enhanced and personalized user experience."
   ]
  },
  {
   "cell_type": "markdown",
   "id": "85221369-f5fe-4ebe-9609-4288dd580ac3",
   "metadata": {},
   "source": [
    "## Importing Required Libraries"
   ]
  },
  {
   "cell_type": "code",
   "execution_count": 4,
   "id": "51c04077",
   "metadata": {},
   "outputs": [],
   "source": [
    "import pandas as pd\n",
    "import matplotlib.pyplot as plt\n",
    "import seaborn as sns\n",
    "import pandas as pd\n",
    "import re\n",
    "from camel_tools.utils.normalize import normalize_unicode\n"
   ]
  },
  {
   "cell_type": "markdown",
   "id": "acf3a309-2d04-45b5-ba9f-a617e498eae4",
   "metadata": {},
   "source": [
    "## Loading the Dataset"
   ]
  },
  {
   "cell_type": "code",
   "execution_count": 6,
   "id": "american-encoding",
   "metadata": {},
   "outputs": [],
   "source": [
    "file_path ='C:\\\\Users\\\\Majed\\\\Downloads\\\\csv_for_case_study_V1.csv'\n",
    "df = pd.read_csv(file_path)"
   ]
  },
  {
   "cell_type": "markdown",
   "id": "59dd5717-14f6-4b9a-bba8-2dff9f9a23dd",
   "metadata": {},
   "source": [
    "## Displaying Basic Information"
   ]
  },
  {
   "cell_type": "code",
   "execution_count": 8,
   "id": "loaded-antibody",
   "metadata": {},
   "outputs": [
    {
     "name": "stdout",
     "output_type": "stream",
     "text": [
      "<class 'pandas.core.frame.DataFrame'>\n",
      "RangeIndex: 500000 entries, 0 to 499999\n",
      "Data columns (total 6 columns):\n",
      " #   Column        Non-Null Count   Dtype \n",
      "---  ------        --------------   ----- \n",
      " 0   index         500000 non-null  int64 \n",
      " 1   product_id    500000 non-null  int64 \n",
      " 2   customer_id   500000 non-null  int64 \n",
      " 3   product_name  500000 non-null  object\n",
      " 4   Event_Date    477821 non-null  object\n",
      " 5   Event         500000 non-null  object\n",
      "dtypes: int64(3), object(3)\n",
      "memory usage: 22.9+ MB\n"
     ]
    },
    {
     "data": {
      "text/html": [
       "<div>\n",
       "<style scoped>\n",
       "    .dataframe tbody tr th:only-of-type {\n",
       "        vertical-align: middle;\n",
       "    }\n",
       "\n",
       "    .dataframe tbody tr th {\n",
       "        vertical-align: top;\n",
       "    }\n",
       "\n",
       "    .dataframe thead th {\n",
       "        text-align: right;\n",
       "    }\n",
       "</style>\n",
       "<table border=\"1\" class=\"dataframe\">\n",
       "  <thead>\n",
       "    <tr style=\"text-align: right;\">\n",
       "      <th></th>\n",
       "      <th>index</th>\n",
       "      <th>product_id</th>\n",
       "      <th>customer_id</th>\n",
       "      <th>product_name</th>\n",
       "      <th>Event_Date</th>\n",
       "      <th>Event</th>\n",
       "    </tr>\n",
       "  </thead>\n",
       "  <tbody>\n",
       "    <tr>\n",
       "      <th>0</th>\n",
       "      <td>2112112</td>\n",
       "      <td>1</td>\n",
       "      <td>2726055</td>\n",
       "      <td>سائل غسيل للملابس طبيعي عدد 2 عبوة بحجم 1.8 لتر</td>\n",
       "      <td>2023-03-28 02:03:31+00:00</td>\n",
       "      <td>purchased</td>\n",
       "    </tr>\n",
       "    <tr>\n",
       "      <th>1</th>\n",
       "      <td>12110444</td>\n",
       "      <td>2</td>\n",
       "      <td>8307875</td>\n",
       "      <td>عطر 002</td>\n",
       "      <td>2023-02-07 23:23:49+00:00</td>\n",
       "      <td>cart</td>\n",
       "    </tr>\n",
       "    <tr>\n",
       "      <th>2</th>\n",
       "      <td>8908469</td>\n",
       "      <td>3</td>\n",
       "      <td>14308668</td>\n",
       "      <td>ريجليز بوبا بوبا شريط لبان علكة بنكهة الفراولة...</td>\n",
       "      <td>2023-03-16 20:37:03+00:00</td>\n",
       "      <td>cart</td>\n",
       "    </tr>\n",
       "    <tr>\n",
       "      <th>3</th>\n",
       "      <td>40921</td>\n",
       "      <td>4</td>\n",
       "      <td>13235575</td>\n",
       "      <td>ساعة يد رجالية M34-2</td>\n",
       "      <td>2023-02-22 17:27:47+00:00</td>\n",
       "      <td>cart</td>\n",
       "    </tr>\n",
       "    <tr>\n",
       "      <th>4</th>\n",
       "      <td>14635759</td>\n",
       "      <td>5</td>\n",
       "      <td>1652827</td>\n",
       "      <td>فوط تنظيف ميكروفايبر ريكسو - 6 حبات</td>\n",
       "      <td>2023-02-28 19:05:40+00:00</td>\n",
       "      <td>cart</td>\n",
       "    </tr>\n",
       "  </tbody>\n",
       "</table>\n",
       "</div>"
      ],
      "text/plain": [
       "      index  product_id  customer_id  \\\n",
       "0   2112112           1      2726055   \n",
       "1  12110444           2      8307875   \n",
       "2   8908469           3     14308668   \n",
       "3     40921           4     13235575   \n",
       "4  14635759           5      1652827   \n",
       "\n",
       "                                        product_name  \\\n",
       "0    سائل غسيل للملابس طبيعي عدد 2 عبوة بحجم 1.8 لتر   \n",
       "1                                            عطر 002   \n",
       "2  ريجليز بوبا بوبا شريط لبان علكة بنكهة الفراولة...   \n",
       "3                               ساعة يد رجالية M34-2   \n",
       "4                فوط تنظيف ميكروفايبر ريكسو - 6 حبات   \n",
       "\n",
       "                  Event_Date      Event  \n",
       "0  2023-03-28 02:03:31+00:00  purchased  \n",
       "1  2023-02-07 23:23:49+00:00       cart  \n",
       "2  2023-03-16 20:37:03+00:00       cart  \n",
       "3  2023-02-22 17:27:47+00:00       cart  \n",
       "4  2023-02-28 19:05:40+00:00       cart  "
      ]
     },
     "execution_count": 8,
     "metadata": {},
     "output_type": "execute_result"
    }
   ],
   "source": [
    "df.info()  # Provides an overview of the dataset \n",
    "df.head()  # Displays the first 5 rows of the dataset"
   ]
  },
  {
   "cell_type": "code",
   "execution_count": 9,
   "id": "328f786f-183d-47c4-9cd7-53dc29f620e7",
   "metadata": {},
   "outputs": [
    {
     "name": "stdout",
     "output_type": "stream",
     "text": [
      "Total number of rows: 500000\n"
     ]
    }
   ],
   "source": [
    "# Checking Dataset Size\n",
    "\n",
    "print(\"Total number of rows:\", len(df))"
   ]
  },
  {
   "cell_type": "markdown",
   "id": "72beb4cd-ad12-4e48-b4a6-9cc9a84cd434",
   "metadata": {},
   "source": [
    "## Exploratory Data Analysis (EDA)"
   ]
  },
  {
   "cell_type": "code",
   "execution_count": 11,
   "id": "eebf621b-7e60-49d2-af41-2ff114e09958",
   "metadata": {},
   "outputs": [],
   "source": [
    "# Pre-compute Counts\n",
    "product_id_counts = df['product_id'].value_counts()\n",
    "product_name_counts = df['product_name'].value_counts()\n",
    "customer_id_counts = df['customer_id'].value_counts()\n",
    "event_counts = df['Event'].value_counts()"
   ]
  },
  {
   "cell_type": "code",
   "execution_count": 12,
   "id": "6ae9c137-c450-4722-8da1-5aefd1092bb7",
   "metadata": {},
   "outputs": [
    {
     "name": "stdout",
     "output_type": "stream",
     "text": [
      "\n",
      "Unique Product IDs and their frequency (Top 10):\n",
      "product_id\n",
      "379     2556\n",
      "126     2282\n",
      "491     2128\n",
      "274     1181\n",
      "130     1115\n",
      "1862     846\n",
      "218      812\n",
      "709      762\n",
      "1290     708\n",
      "565      688\n",
      "Name: count, dtype: int64\n"
     ]
    },
    {
     "data": {
      "image/png": "[encoded data removed]",
      "text/plain": [
       "<Figure size 1000x600 with 1 Axes>"
      ]
     },
     "metadata": {},
     "output_type": "display_data"
    }
   ],
   "source": [
    "# 1. Unique Product IDs and their frequency (Top 10)\n",
    "print(\"\\nUnique Product IDs and their frequency (Top 10):\")\n",
    "top_10_products = product_id_counts.head(10)\n",
    "print(top_10_products)\n",
    "plt.figure(figsize=(10, 6))\n",
    "sns.countplot(x='product_id', data=df, order=top_10_products.index)\n",
    "plt.xticks(rotation=90)\n",
    "plt.title('Frequency of Product IDs (Top 10)')\n",
    "plt.show()"
   ]
  },
  {
   "cell_type": "code",
   "execution_count": 13,
   "id": "6c10acbc-b089-422f-8847-3a2dcebdbe30",
   "metadata": {},
   "outputs": [
    {
     "name": "stdout",
     "output_type": "stream",
     "text": [
      "\n",
      "Unique Product Names and their frequency (Top 10):\n",
      "product_name\n",
      "عطر 379                                                  2556\n",
      "عطر 491                                                  2128\n",
      "ماكينة  لكامل الجسم للرجال والنساء لون أسود              1315\n",
      "عطر 274                                                  1181\n",
      "مناديل 500 مفرد                                          1129\n",
      "ماكينة  لكامل الجسم للرجال والنساء لون أزرق غامق مميز    1073\n",
      "حذاء شرقي مطرز                                            954\n",
      "عطر 1862                                                  846\n",
      "طرحة ربط سادة 4  ألوان                                    812\n",
      "عطر 709                                                   762\n",
      "Name: count, dtype: int64\n"
     ]
    },
    {
     "data": {
      "image/png": "[encoded data removed]",
      "text/plain": [
       "<Figure size 1000x600 with 1 Axes>"
      ]
     },
     "metadata": {},
     "output_type": "display_data"
    }
   ],
   "source": [
    "# 2. Unique Product Names and their frequency (Top 10)\n",
    "print(\"\\nUnique Product Names and their frequency (Top 10):\")\n",
    "top_10_product_names = product_name_counts.head(10)\n",
    "print(top_10_product_names)\n",
    "plt.figure(figsize=(10, 6))\n",
    "sns.countplot(x='product_name', data=df, order=top_10_product_names.index)\n",
    "plt.xticks(rotation=90)\n",
    "plt.title('Frequency of Product Names (Top 10)')\n",
    "plt.show()"
   ]
  },
  {
   "cell_type": "code",
   "execution_count": 14,
   "id": "71b89269-24eb-4b61-aade-a1b0b9ba832b",
   "metadata": {},
   "outputs": [
    {
     "name": "stdout",
     "output_type": "stream",
     "text": [
      "\n",
      "Unique Customer IDs and their frequency (Distribution):\n"
     ]
    },
    {
     "data": {
      "image/png": "[encoded data removed]",
      "text/plain": [
       "<Figure size 1000x600 with 1 Axes>"
      ]
     },
     "metadata": {},
     "output_type": "display_data"
    }
   ],
   "source": [
    "# 3. Unique Customer IDs and their frequency (Distribution)\n",
    "print(\"\\nUnique Customer IDs and their frequency (Distribution):\")\n",
    "plt.figure(figsize=(10, 6))\n",
    "sns.histplot(customer_id_counts, bins=20)  \n",
    "plt.title('Distribution of Customer Purchase Counts')\n",
    "plt.xlabel('Number of Purchases')\n",
    "plt.ylabel('Number of Customers')\n",
    "plt.show()"
   ]
  },
  {
   "cell_type": "code",
   "execution_count": 15,
   "id": "ddff5df8-8ef3-442b-aed8-0d15c4ff26d6",
   "metadata": {},
   "outputs": [
    {
     "name": "stdout",
     "output_type": "stream",
     "text": [
      "\n",
      "Types of Events and their frequency:\n",
      "Event\n",
      "cart              305129\n",
      "purchased         166423\n",
      "wishlist           22179\n",
      "search_keyword      3190\n",
      "rating              3079\n",
      "Name: count, dtype: int64\n"
     ]
    },
    {
     "data": {
      "image/png": "[encoded data removed]",
      "text/plain": [
       "<Figure size 800x500 with 1 Axes>"
      ]
     },
     "metadata": {},
     "output_type": "display_data"
    }
   ],
   "source": [
    "# 4. Types of Events and their frequency\n",
    "print(\"\\nTypes of Events and their frequency:\")\n",
    "print(event_counts)\n",
    "plt.figure(figsize=(8, 5))\n",
    "event_counts.plot(kind='bar')  # Use pre-computed counts\n",
    "plt.title('Frequency of Event Types')\n",
    "plt.xlabel('Event Type')\n",
    "plt.ylabel('Frequency')\n",
    "plt.show()"
   ]
  },
  {
   "cell_type": "code",
   "execution_count": 16,
   "id": "f13780bc-da3b-46e9-9a9c-ecc62ea2c322",
   "metadata": {},
   "outputs": [
    {
     "name": "stdout",
     "output_type": "stream",
     "text": [
      "\n",
      "Event Date Analysis:\n",
      "count                                 477821\n",
      "mean     2023-02-07 16:54:52.963224576+00:00\n",
      "min                2022-10-01 00:03:06+00:00\n",
      "25%                2023-01-10 12:22:22+00:00\n",
      "50%                2023-02-10 16:25:02+00:00\n",
      "75%                2023-03-08 16:56:45+00:00\n",
      "max                2023-03-31 23:59:52+00:00\n",
      "Name: Event_Date, dtype: object\n"
     ]
    }
   ],
   "source": [
    "# 5. Event Date Analysis (if needed - using sampled data)\n",
    "df['Event_Date'] = pd.to_datetime(df['Event_Date'])\n",
    "print(\"\\nEvent Date Analysis:\")\n",
    "print(df['Event_Date'].describe())"
   ]
  },
  {
   "cell_type": "markdown",
   "id": "bf135f4b-85b8-414d-9095-eff0b1515068",
   "metadata": {},
   "source": [
    "## Text Preprocessing: Removing Non-Arabic Characters & Performing Text Normalization"
   ]
  },
  {
   "cell_type": "code",
   "execution_count": 18,
   "id": "7a9eba02-7bba-4f00-a5b3-571a7983b300",
   "metadata": {},
   "outputs": [],
   "source": [
    "# Sampling (the data is quite big for a simple machine to handle matrix factorization and consine similarity)\n",
    "sample_size = 100000  \n",
    "df_sampled = df.sample(n=sample_size, random_state=42)  "
   ]
  },
  {
   "cell_type": "code",
   "execution_count": 19,
   "id": "b28cd45c-2326-4fe9-b842-f07f73deef8c",
   "metadata": {},
   "outputs": [],
   "source": [
    "# ==========================================\n",
    "# Text Preprocessing: Removing Non-Arabic Characters\n",
    "# ==========================================\n",
    "def remove_non_arabic(text):\n",
    "    # This regex keeps only characters in the Arabic Unicode block (\\u0600-\\u06FF) and spaces\n",
    "    arabic_text = re.sub(r'[^\\u0600-\\u06FF\\s]', '', text)\n",
    "    return arabic_text.strip()\n",
    "\n",
    "# Initialize the built-in ar2bw mapper from Camel Tools\n",
    "#ar2bw_mapper = CharMapper.builtin_mapper('ar2bw')"
   ]
  },
  {
   "cell_type": "code",
   "execution_count": 20,
   "id": "located-faculty",
   "metadata": {},
   "outputs": [],
   "source": [
    "# ==========================================\n",
    "# Text Normalization\n",
    "# ==========================================\n",
    "# Define the preprocessing function that applies non-Arabic removal and then converts text using ar2bw\n",
    "def preprocess_arabic_text(text):\n",
    "    # Remove non-Arabic characters\n",
    "    text_arabic = remove_non_arabic(text)\n",
    "    # Map the Arabic text to its Buckwalter representation using ar2bw\n",
    "    text_bw = normalize_unicode(text_arabic)\n",
    "    return text_bw\n"
   ]
  },
  {
   "cell_type": "code",
   "execution_count": 21,
   "id": "homeless-reaction",
   "metadata": {},
   "outputs": [],
   "source": [
    "# Apply the preprocessing function to the 'product_name' column and store results in a new column 'preprocessed_text'\n",
    "df_sampled['preprocessed_text'] = df_sampled['product_name'].apply(preprocess_arabic_text)"
   ]
  },
  {
   "cell_type": "code",
   "execution_count": 22,
   "id": "clear-compression",
   "metadata": {},
   "outputs": [
    {
     "data": {
      "text/html": [
       "<div>\n",
       "<style scoped>\n",
       "    .dataframe tbody tr th:only-of-type {\n",
       "        vertical-align: middle;\n",
       "    }\n",
       "\n",
       "    .dataframe tbody tr th {\n",
       "        vertical-align: top;\n",
       "    }\n",
       "\n",
       "    .dataframe thead th {\n",
       "        text-align: right;\n",
       "    }\n",
       "</style>\n",
       "<table border=\"1\" class=\"dataframe\">\n",
       "  <thead>\n",
       "    <tr style=\"text-align: right;\">\n",
       "      <th></th>\n",
       "      <th>product_name</th>\n",
       "    </tr>\n",
       "  </thead>\n",
       "  <tbody>\n",
       "    <tr>\n",
       "      <th>104241</th>\n",
       "      <td>كحل شمعي ازرق نيلي</td>\n",
       "    </tr>\n",
       "    <tr>\n",
       "      <th>199676</th>\n",
       "      <td>عطر 7039</td>\n",
       "    </tr>\n",
       "    <tr>\n",
       "      <th>140199</th>\n",
       "      <td>عطر 848</td>\n",
       "    </tr>\n",
       "    <tr>\n",
       "      <th>132814</th>\n",
       "      <td>باكج اللبان العماني المسقى - Mini</td>\n",
       "    </tr>\n",
       "    <tr>\n",
       "      <th>408697</th>\n",
       "      <td>سماعة أرجوان برو</td>\n",
       "    </tr>\n",
       "  </tbody>\n",
       "</table>\n",
       "</div>"
      ],
      "text/plain": [
       "                             product_name\n",
       "104241                 كحل شمعي ازرق نيلي\n",
       "199676                           عطر 7039\n",
       "140199                            عطر 848\n",
       "132814  باكج اللبان العماني المسقى - Mini\n",
       "408697                   سماعة أرجوان برو"
      ]
     },
     "execution_count": 22,
     "metadata": {},
     "output_type": "execute_result"
    }
   ],
   "source": [
    "df_sampled[['product_name']].head()"
   ]
  },
  {
   "cell_type": "code",
   "execution_count": 23,
   "id": "unauthorized-basic",
   "metadata": {},
   "outputs": [
    {
     "data": {
      "text/html": [
       "<div>\n",
       "<style scoped>\n",
       "    .dataframe tbody tr th:only-of-type {\n",
       "        vertical-align: middle;\n",
       "    }\n",
       "\n",
       "    .dataframe tbody tr th {\n",
       "        vertical-align: top;\n",
       "    }\n",
       "\n",
       "    .dataframe thead th {\n",
       "        text-align: right;\n",
       "    }\n",
       "</style>\n",
       "<table border=\"1\" class=\"dataframe\">\n",
       "  <thead>\n",
       "    <tr style=\"text-align: right;\">\n",
       "      <th></th>\n",
       "      <th>preprocessed_text</th>\n",
       "    </tr>\n",
       "  </thead>\n",
       "  <tbody>\n",
       "    <tr>\n",
       "      <th>104241</th>\n",
       "      <td>كحل شمعي ازرق نيلي</td>\n",
       "    </tr>\n",
       "    <tr>\n",
       "      <th>199676</th>\n",
       "      <td>عطر</td>\n",
       "    </tr>\n",
       "    <tr>\n",
       "      <th>140199</th>\n",
       "      <td>عطر</td>\n",
       "    </tr>\n",
       "    <tr>\n",
       "      <th>132814</th>\n",
       "      <td>باكج اللبان العماني المسقى</td>\n",
       "    </tr>\n",
       "    <tr>\n",
       "      <th>408697</th>\n",
       "      <td>سماعة أرجوان برو</td>\n",
       "    </tr>\n",
       "  </tbody>\n",
       "</table>\n",
       "</div>"
      ],
      "text/plain": [
       "                 preprocessed_text\n",
       "104241          كحل شمعي ازرق نيلي\n",
       "199676                         عطر\n",
       "140199                         عطر\n",
       "132814  باكج اللبان العماني المسقى\n",
       "408697            سماعة أرجوان برو"
      ]
     },
     "execution_count": 23,
     "metadata": {},
     "output_type": "execute_result"
    }
   ],
   "source": [
    "df_sampled[['preprocessed_text']].head()"
   ]
  },
  {
   "cell_type": "code",
   "execution_count": 24,
   "id": "declared-alarm",
   "metadata": {},
   "outputs": [
    {
     "data": {
      "text/html": [
       "<div>\n",
       "<style scoped>\n",
       "    .dataframe tbody tr th:only-of-type {\n",
       "        vertical-align: middle;\n",
       "    }\n",
       "\n",
       "    .dataframe tbody tr th {\n",
       "        vertical-align: top;\n",
       "    }\n",
       "\n",
       "    .dataframe thead th {\n",
       "        text-align: right;\n",
       "    }\n",
       "</style>\n",
       "<table border=\"1\" class=\"dataframe\">\n",
       "  <thead>\n",
       "    <tr style=\"text-align: right;\">\n",
       "      <th></th>\n",
       "      <th>index</th>\n",
       "      <th>product_id</th>\n",
       "      <th>customer_id</th>\n",
       "      <th>product_name</th>\n",
       "      <th>Event_Date</th>\n",
       "      <th>Event</th>\n",
       "      <th>preprocessed_text</th>\n",
       "      <th>Event_encoded</th>\n",
       "    </tr>\n",
       "  </thead>\n",
       "  <tbody>\n",
       "    <tr>\n",
       "      <th>104241</th>\n",
       "      <td>1074513</td>\n",
       "      <td>51882</td>\n",
       "      <td>5834304</td>\n",
       "      <td>كحل شمعي ازرق نيلي</td>\n",
       "      <td>2022-11-07 02:27:41+00:00</td>\n",
       "      <td>search_keyword</td>\n",
       "      <td>كحل شمعي ازرق نيلي</td>\n",
       "      <td>3</td>\n",
       "    </tr>\n",
       "    <tr>\n",
       "      <th>199676</th>\n",
       "      <td>14782255</td>\n",
       "      <td>7039</td>\n",
       "      <td>2077836</td>\n",
       "      <td>عطر 7039</td>\n",
       "      <td>2023-03-28 22:23:04+00:00</td>\n",
       "      <td>cart</td>\n",
       "      <td>عطر</td>\n",
       "      <td>0</td>\n",
       "    </tr>\n",
       "    <tr>\n",
       "      <th>140199</th>\n",
       "      <td>14101671</td>\n",
       "      <td>848</td>\n",
       "      <td>14328136</td>\n",
       "      <td>عطر 848</td>\n",
       "      <td>2023-03-09 21:49:43+00:00</td>\n",
       "      <td>cart</td>\n",
       "      <td>عطر</td>\n",
       "      <td>0</td>\n",
       "    </tr>\n",
       "    <tr>\n",
       "      <th>132814</th>\n",
       "      <td>14401660</td>\n",
       "      <td>60917</td>\n",
       "      <td>10939648</td>\n",
       "      <td>باكج اللبان العماني المسقى - Mini</td>\n",
       "      <td>2023-02-05 13:52:05+00:00</td>\n",
       "      <td>cart</td>\n",
       "      <td>باكج اللبان العماني المسقى</td>\n",
       "      <td>0</td>\n",
       "    </tr>\n",
       "    <tr>\n",
       "      <th>408697</th>\n",
       "      <td>15799633</td>\n",
       "      <td>207</td>\n",
       "      <td>1217734</td>\n",
       "      <td>سماعة أرجوان برو</td>\n",
       "      <td>2023-03-14 08:52:34+00:00</td>\n",
       "      <td>cart</td>\n",
       "      <td>سماعة أرجوان برو</td>\n",
       "      <td>0</td>\n",
       "    </tr>\n",
       "  </tbody>\n",
       "</table>\n",
       "</div>"
      ],
      "text/plain": [
       "           index  product_id  customer_id                       product_name  \\\n",
       "104241   1074513       51882      5834304                 كحل شمعي ازرق نيلي   \n",
       "199676  14782255        7039      2077836                           عطر 7039   \n",
       "140199  14101671         848     14328136                            عطر 848   \n",
       "132814  14401660       60917     10939648  باكج اللبان العماني المسقى - Mini   \n",
       "408697  15799633         207      1217734                   سماعة أرجوان برو   \n",
       "\n",
       "                      Event_Date           Event           preprocessed_text  \\\n",
       "104241 2022-11-07 02:27:41+00:00  search_keyword          كحل شمعي ازرق نيلي   \n",
       "199676 2023-03-28 22:23:04+00:00            cart                         عطر   \n",
       "140199 2023-03-09 21:49:43+00:00            cart                         عطر   \n",
       "132814 2023-02-05 13:52:05+00:00            cart  باكج اللبان العماني المسقى   \n",
       "408697 2023-03-14 08:52:34+00:00            cart            سماعة أرجوان برو   \n",
       "\n",
       "        Event_encoded  \n",
       "104241              3  \n",
       "199676              0  \n",
       "140199              0  \n",
       "132814              0  \n",
       "408697              0  "
      ]
     },
     "execution_count": 24,
     "metadata": {},
     "output_type": "execute_result"
    }
   ],
   "source": [
    "# Drop duplicates and handle missing values\n",
    "df_sampled.drop_duplicates(subset=['product_id'], inplace=True) \n",
    "df_sampled = df_sampled[df_sampled['preprocessed_text'].notna()]\n",
    "\n",
    "# Encode categorical event types\n",
    "df_sampled['Event_encoded'] = df_sampled['Event'].astype('category').cat.codes\n",
    "\n",
    "#df_sampled.drop_duplicates(subset=['preprocessed_text'], inplace=True) \n",
    "\n",
    "# Display cleaned data\n",
    "df_sampled.head()"
   ]
  },
  {
   "cell_type": "code",
   "execution_count": 25,
   "id": "bcfb4c80-1bf3-41ff-bf26-780382eaa26f",
   "metadata": {},
   "outputs": [
    {
     "data": {
      "text/plain": [
       "60335"
      ]
     },
     "execution_count": 25,
     "metadata": {},
     "output_type": "execute_result"
    }
   ],
   "source": [
    "len(df_sampled)"
   ]
  },
  {
   "cell_type": "markdown",
   "id": "2a744151-0dd9-47d7-87d8-13a6c7af1ca1",
   "metadata": {},
   "source": [
    "## Vectorizing Text Data using TF-IDF"
   ]
  },
  {
   "cell_type": "code",
   "execution_count": 27,
   "id": "ca171d87",
   "metadata": {},
   "outputs": [
    {
     "name": "stdout",
     "output_type": "stream",
     "text": [
      "TF-IDF matrix shape: (60335, 142618)\n"
     ]
    }
   ],
   "source": [
    "from sklearn.feature_extraction.text import TfidfVectorizer\n",
    "\n",
    "# Create a TF-IDF vectorizer instance (you can adjust parameters like ngram_range if needed)\n",
    "vectorizer = TfidfVectorizer(ngram_range=(1,2))  # using unigrams and bigrams can capture some context\n",
    "tfidf_matrix = vectorizer.fit_transform(df_sampled['preprocessed_text'])\n",
    "\n",
    "print(\"TF-IDF matrix shape:\", tfidf_matrix.shape)\n"
   ]
  },
  {
   "cell_type": "markdown",
   "id": "c5cf0c89-e9be-48c6-b504-e8fb599377e2",
   "metadata": {},
   "source": [
    "## Dimensionality Reduction using SVD"
   ]
  },
  {
   "cell_type": "code",
   "execution_count": 29,
   "id": "c62e56b5",
   "metadata": {},
   "outputs": [
    {
     "name": "stdout",
     "output_type": "stream",
     "text": [
      "Reduced shape: (60335, 300)\n"
     ]
    }
   ],
   "source": [
    "from sklearn.decomposition import TruncatedSVD\n",
    "import scipy.sparse as sp\n",
    "\n",
    "svd = TruncatedSVD(n_components=300, random_state=42)\n",
    "reduced_matrix = svd.fit_transform(tfidf_matrix)\n",
    "\n",
    "print(\"Reduced shape:\", reduced_matrix.shape)\n",
    "\n",
    "# - Reduces the number of features while retaining important information.\n",
    "# - Helps in improving computational efficiency."
   ]
  },
  {
   "cell_type": "markdown",
   "id": "ae3d89f6-aa1d-4015-8163-a2f999bc1e42",
   "metadata": {},
   "source": [
    "## Computing Cosine Similarity"
   ]
  },
  {
   "cell_type": "code",
   "execution_count": 31,
   "id": "precise-oakland",
   "metadata": {},
   "outputs": [
    {
     "name": "stdout",
     "output_type": "stream",
     "text": [
      "Cosine similarity for first product: [ 1.00000000e+00  3.56076346e-14  3.56076346e-14  4.14394267e-02\n",
      " -3.36563164e-03]\n"
     ]
    }
   ],
   "source": [
    "from sklearn.metrics.pairwise import cosine_similarity\n",
    "\n",
    "# Compute the cosine similarity matrix for all products\n",
    "cosine_sim = cosine_similarity(reduced_matrix, reduced_matrix)\n",
    "\n",
    "# Example: Inspect similarity between first few products\n",
    "print(\"Cosine similarity for first product:\", cosine_sim[0][:5])"
   ]
  },
  {
   "cell_type": "markdown",
   "id": "9d00d145-44c6-43cc-aa85-3628b04804fb",
   "metadata": {},
   "source": [
    "## Recommendation Function"
   ]
  },
  {
   "cell_type": "code",
   "execution_count": 33,
   "id": "4bedba07-c879-432e-988a-1c2b01c72858",
   "metadata": {},
   "outputs": [],
   "source": [
    "def get_recommendations(product_index, top_n=6, sim_threshold=0.6):\n",
    "    # Get pairwise similarity scores for the given product\n",
    "    print(\"product_index: \", product_index)\n",
    "    sim_scores = list(enumerate(cosine_sim[product_index]))\n",
    "    # Filter products with similarity above threshold and not the same product\n",
    "    filtered_scores = [score for score in sim_scores if score[1] > sim_threshold and score[0] != product_index]\n",
    "    # Sort products based on similarity score\n",
    "    filtered_scores = sorted(filtered_scores, key=lambda x: x[1], reverse=True)\n",
    "    # Select top_n recommendations\n",
    "    product_indices = [i[0] for i in filtered_scores[:top_n]]\n",
    "    return df_sampled.iloc[product_indices][['product_id', 'product_name']]"
   ]
  },
  {
   "cell_type": "markdown",
   "id": "2f4aa571-4b4f-4222-a479-d22efc089728",
   "metadata": {},
   "source": [
    "## Testing the Recommendation System"
   ]
  },
  {
   "cell_type": "code",
   "execution_count": 35,
   "id": "7770209f-449c-45ac-b486-988b32419b4f",
   "metadata": {},
   "outputs": [
    {
     "name": "stdout",
     "output_type": "stream",
     "text": [
      "product_index:  3312\n",
      "Original Product:\n",
      "توري بورش\n",
      "\n",
      "Similar Products:\n"
     ]
    },
    {
     "data": {
      "text/html": [
       "<div>\n",
       "<style scoped>\n",
       "    .dataframe tbody tr th:only-of-type {\n",
       "        vertical-align: middle;\n",
       "    }\n",
       "\n",
       "    .dataframe tbody tr th {\n",
       "        vertical-align: top;\n",
       "    }\n",
       "\n",
       "    .dataframe thead th {\n",
       "        text-align: right;\n",
       "    }\n",
       "</style>\n",
       "<table border=\"1\" class=\"dataframe\">\n",
       "  <thead>\n",
       "    <tr style=\"text-align: right;\">\n",
       "      <th></th>\n",
       "      <th>product_id</th>\n",
       "      <th>product_name</th>\n",
       "    </tr>\n",
       "  </thead>\n",
       "  <tbody>\n",
       "    <tr>\n",
       "      <th>80526</th>\n",
       "      <td>39755</td>\n",
       "      <td>خاتم نسائي</td>\n",
       "    </tr>\n",
       "    <tr>\n",
       "      <th>136709</th>\n",
       "      <td>76926</td>\n",
       "      <td>خاتم نسائي</td>\n",
       "    </tr>\n",
       "    <tr>\n",
       "      <th>290724</th>\n",
       "      <td>107084</td>\n",
       "      <td>خاتم  Cartier  نسائي</td>\n",
       "    </tr>\n",
       "    <tr>\n",
       "      <th>207870</th>\n",
       "      <td>105979</td>\n",
       "      <td>خاتم نسائي طرف الاصابع جمال لايوصف FS</td>\n",
       "    </tr>\n",
       "    <tr>\n",
       "      <th>125359</th>\n",
       "      <td>25279</td>\n",
       "      <td>خاتم نسائي زركون بتصميم ملفت</td>\n",
       "    </tr>\n",
       "  </tbody>\n",
       "</table>\n",
       "</div>"
      ],
      "text/plain": [
       "        product_id                           product_name\n",
       "80526        39755                             خاتم نسائي\n",
       "136709       76926                             خاتم نسائي\n",
       "290724      107084                   خاتم  Cartier  نسائي\n",
       "207870      105979  خاتم نسائي طرف الاصابع جمال لايوصف FS\n",
       "125359       25279           خاتم نسائي زركون بتصميم ملفت"
      ]
     },
     "execution_count": 35,
     "metadata": {},
     "output_type": "execute_result"
    }
   ],
   "source": [
    "# Example: Get recommendations for random products\n",
    "product_index=3312\n",
    "original_product = df.loc[product_index, 'product_name']\n",
    "recommended_products = get_recommendations(product_index=product_index)\n",
    "    \n",
    "print(\"Original Product:\")\n",
    "print(original_product)\n",
    "print(\"\\nSimilar Products:\")\n",
    "recommended_products.head()"
   ]
  },
  {
   "cell_type": "code",
   "execution_count": 36,
   "id": "9704e893",
   "metadata": {},
   "outputs": [
    {
     "name": "stdout",
     "output_type": "stream",
     "text": [
      "product_index:  1233\n",
      "Original Product:\n",
      "ويوو - ساعة ذكية WIWU SW01 الرياضية الترا - لون اسود باند اسود\n",
      "\n",
      "Similar Products:\n"
     ]
    },
    {
     "data": {
      "text/html": [
       "<div>\n",
       "<style scoped>\n",
       "    .dataframe tbody tr th:only-of-type {\n",
       "        vertical-align: middle;\n",
       "    }\n",
       "\n",
       "    .dataframe tbody tr th {\n",
       "        vertical-align: top;\n",
       "    }\n",
       "\n",
       "    .dataframe thead th {\n",
       "        text-align: right;\n",
       "    }\n",
       "</style>\n",
       "<table border=\"1\" class=\"dataframe\">\n",
       "  <thead>\n",
       "    <tr style=\"text-align: right;\">\n",
       "      <th></th>\n",
       "      <th>product_id</th>\n",
       "      <th>product_name</th>\n",
       "    </tr>\n",
       "  </thead>\n",
       "  <tbody>\n",
       "    <tr>\n",
       "      <th>196770</th>\n",
       "      <td>49002</td>\n",
       "      <td>تيشيرت ليفربول الاساسي</td>\n",
       "    </tr>\n",
       "    <tr>\n",
       "      <th>169699</th>\n",
       "      <td>20759</td>\n",
       "      <td>تيشيرت تشيلسي الاساسي 22/23</td>\n",
       "    </tr>\n",
       "    <tr>\n",
       "      <th>229364</th>\n",
       "      <td>114254</td>\n",
       "      <td>تيشيرت اسبانيا الاساسي</td>\n",
       "    </tr>\n",
       "    <tr>\n",
       "      <th>300716</th>\n",
       "      <td>2552</td>\n",
       "      <td>تيشيرت انجلترا الاساسي</td>\n",
       "    </tr>\n",
       "    <tr>\n",
       "      <th>199526</th>\n",
       "      <td>102756</td>\n",
       "      <td>تيشيرت يوفينتوس الاساسي 2020</td>\n",
       "    </tr>\n",
       "  </tbody>\n",
       "</table>\n",
       "</div>"
      ],
      "text/plain": [
       "        product_id                  product_name\n",
       "196770       49002        تيشيرت ليفربول الاساسي\n",
       "169699       20759   تيشيرت تشيلسي الاساسي 22/23\n",
       "229364      114254        تيشيرت اسبانيا الاساسي\n",
       "300716        2552        تيشيرت انجلترا الاساسي\n",
       "199526      102756  تيشيرت يوفينتوس الاساسي 2020"
      ]
     },
     "execution_count": 36,
     "metadata": {},
     "output_type": "execute_result"
    }
   ],
   "source": [
    "# Run a different rando test\n",
    "product_index=1233\n",
    "original_product = df.loc[product_index, 'product_name']\n",
    "recommended_products = get_recommendations(product_index=product_index)\n",
    "    \n",
    "print(\"Original Product:\")\n",
    "print(original_product)\n",
    "print(\"\\nSimilar Products:\")\n",
    "recommended_products.head()"
   ]
  },
  {
   "cell_type": "markdown",
   "id": "eb4a5838-4eb6-4e6a-9135-f869b30d9731",
   "metadata": {},
   "source": [
    "## calculate_coverage\n",
    "- Evaluate the recommendation model using a coverage test\n",
    "- The coverage test shows the percentage of products have at least 6 recommendations with\n",
    "similarity score > 0.6"
   ]
  },
  {
   "cell_type": "code",
   "execution_count": 38,
   "id": "fed119db-9f31-4ed7-b03c-99404fdb9a1c",
   "metadata": {},
   "outputs": [
    {
     "name": "stdout",
     "output_type": "stream",
     "text": [
      "Coverage: 88.55059252506837 %\n"
     ]
    }
   ],
   "source": [
    "def calculate_coverage(sim_threshold=0.6, required_recs=6):\n",
    "    count = 0\n",
    "    for i in range(cosine_sim.shape[0]):\n",
    "        sim_scores = [score for score in cosine_sim[i] if score > sim_threshold and score != 1.0]\n",
    "        if len(sim_scores) >= required_recs:\n",
    "            count += 1\n",
    "    coverage = (count / cosine_sim.shape[0]) * 100\n",
    "    return coverage\n",
    "\n",
    "print(\"Coverage:\", calculate_coverage(), \"%\")\n"
   ]
  },
  {
   "cell_type": "markdown",
   "id": "e154a4d3-3eb9-4a9e-a72e-b8c9623504e0",
   "metadata": {},
   "source": [
    "## Deployment \n",
    "- This was running successfully on local host and I performed the stess test on the local endpoint (results attached)\n",
    "- However, due to using a free depolyment service to share it online, there was a memeory limit\n",
    "- As a work around I deployed a ligher version that only has the first 5000 product just to be able to share a public link (https://product-recommender-system-pihf.onrender.com/)"
   ]
  },
  {
   "cell_type": "code",
   "execution_count": 40,
   "id": "d9958a28",
   "metadata": {
    "scrolled": true
   },
   "outputs": [
    {
     "name": "stderr",
     "output_type": "stream",
     "text": [
      "INFO:     Started server process [17872]\n",
      "INFO:     Waiting for application startup.\n",
      "INFO:     Application startup complete.\n",
      "INFO:     Uvicorn running on http://0.0.0.0:8000 (Press CTRL+C to quit)\n",
      "INFO:     Shutting down\n",
      "INFO:     Waiting for application shutdown.\n",
      "INFO:     Application shutdown complete.\n",
      "INFO:     Finished server process [17872]\n"
     ]
    }
   ],
   "source": [
    "import nest_asyncio\n",
    "from fastapi import FastAPI, HTTPException\n",
    "from pydantic import BaseModel\n",
    "import uvicorn\n",
    "\n",
    "nest_asyncio.apply()  # Apply the workaround for Jupyter's event loop\n",
    "\n",
    "app = FastAPI(title=\"Product Recommendation API\")\n",
    "\n",
    "class RecommendationRequest(BaseModel):\n",
    "    product_index: int\n",
    "\n",
    "@app.post(\"/recommendations\")\n",
    "def recommend_products(request: RecommendationRequest):\n",
    "    try:\n",
    "        recommendations = get_recommendations(request.product_index)\n",
    "        return recommendations.to_dict(orient='records')\n",
    "    except Exception as e:\n",
    "        raise HTTPException(status_code=400, detail=str(e))\n",
    "\n",
    "if __name__ == \"__main__\":\n",
    "    uvicorn.run(app, host=\"0.0.0.0\", port=8000)\n"
   ]
  },
  {
   "cell_type": "markdown",
   "id": "76322331-e0b5-4482-b85f-80798466a445",
   "metadata": {},
   "source": [
    "## Testing with locust\n",
    "- I also added the locustfile.py for testing the endpoing and it successfully managed 1000 users simultaneously (results attached)"
   ]
  },
  {
   "cell_type": "markdown",
   "id": "1fe479e9-dbf0-4854-85e0-6ff6b0654aac",
   "metadata": {},
   "source": [
    "# Limitations\n",
    "\n",
    "### Data Volume:\n",
    "\n",
    "Limitation: Only 20% of the data is used due to memory constraints.\n",
    "\n",
    "Workaround: Scale infrastructure or distributed data to handle large scale (spark for example).\n",
    "\n",
    "### Feature Extraction Approach:\n",
    "\n",
    "Limitation: The model relies on TF-IDF, which may not capture deep semantic nuances.\n",
    "\n",
    "Workaround: Explore dense embeddings (e.g., AraVec, FastText) for richer representations (tried to do these but due to memory constraints didn't succeed).\n",
    "\n",
    "### Model Complexity:\n",
    "\n",
    "Limitation: The model uses a simple cosine similarity-based model.\n",
    "\n",
    "Workaround: Investigate advanced neural network architectures for improved recommendation accuracy.\n",
    "\n",
    "### Feature Scope:\n",
    "\n",
    "Limitation: The current model uses only textual features from product names, ignoring other signals.\n",
    "\n",
    "Workaround: Integrate additional features like user interactions and product metadata to enhance recommendations (tried using that but due to time decided to submit this version withouth it)."
   ]
  },
  {
   "cell_type": "code",
   "execution_count": null,
   "id": "3dceb2f6-bbfa-49df-bc45-abbc52a971d4",
   "metadata": {},
   "outputs": [],
   "source": []
  }
 ],
 "metadata": {
  "kernelspec": {
   "display_name": "Python 3 (ipykernel)",
   "language": "python",
   "name": "python3"
  },
  "language_info": {
   "codemirror_mode": {
    "name": "ipython",
    "version": 3
   },
   "file_extension": ".py",
   "mimetype": "text/x-python",
   "name": "python",
   "nbconvert_exporter": "python",
   "pygments_lexer": "ipython3",
   "version": "3.12.7"
  }
 },
 "nbformat": 4,
 "nbformat_minor": 5
}
